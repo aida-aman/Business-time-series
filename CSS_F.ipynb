{
 "cells": [
  {
   "cell_type": "markdown",
   "metadata": {},
   "source": [
    "# Determining optimal staffing levels for the CS Division."
   ]
  },
  {
   "cell_type": "markdown",
   "metadata": {},
   "source": [
    "## Problem statement: \n",
    "Determining the daily staffing levels to ensure an agreed upon level of quality of customer service while **minimizing service costs**."
   ]
  },
  {
   "cell_type": "markdown",
   "metadata": {},
   "source": [
    "### 1. Workload forecast:"
   ]
  },
  {
   "cell_type": "markdown",
   "metadata": {},
   "source": [
    "An initial step for producing the daily schedule is forecasting the future system loads which implies predicting both ticket arrival counts and average service times."
   ]
  },
  {
   "cell_type": "markdown",
   "metadata": {},
   "source": [
    "#### Understanding the data:"
   ]
  },
  {
   "cell_type": "markdown",
   "metadata": {},
   "source": [
    "Before proceeding to analysis, let's understand what kind of data we have. Since I have to predict daily number of complaint tickets that will be received by our CS agents in this market for the next month, I will have to transform my raw data into the kind of data that has data points indexed or sequenced in time-based order with the 24 hour interval between observations. Hence, what I have is also known as **time-series** data. Other examples of time-series data include daily average temperatures of a given city, hourly bid price of a certain stock etc. Using time-series forecasting will enable us to establish monthly, quaterly or even annual staffing capacity planning for our Customer Support Division to answer the demand, in this case, the number of incoming complaint tickets. "
   ]
  },
  {
   "cell_type": "code",
   "execution_count": null,
   "metadata": {},
   "outputs": [],
   "source": []
  }
 ],
 "metadata": {
  "hide_input": false,
  "kernelspec": {
   "display_name": "Python 3",
   "language": "python",
   "name": "python3"
  },
  "language_info": {
   "codemirror_mode": {
    "name": "ipython",
    "version": 3
   },
   "file_extension": ".py",
   "mimetype": "text/x-python",
   "name": "python",
   "nbconvert_exporter": "python",
   "pygments_lexer": "ipython3",
   "version": "3.8.3"
  }
 },
 "nbformat": 4,
 "nbformat_minor": 4
}
